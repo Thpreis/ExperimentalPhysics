{
 "cells": [
  {
   "cell_type": "code",
   "execution_count": 20,
   "metadata": {
    "collapsed": false
   },
   "outputs": [
    {
     "name": "stdout",
     "output_type": "stream",
     "text": [
      "128\n"
     ]
    },
    {
     "data": {
      "image/png": "[encoded data removed]",
      "text/plain": [
       "<matplotlib.figure.Figure at 0xa0eea90>"
      ]
     },
     "metadata": {},
     "output_type": "display_data"
    }
   ],
   "source": [
    "# harmon_osc_coherent.py - python script for animating the eigenfunctions of the harmonic oscillator\n",
    "# by Andreas Gruebl, agruebl@kip.uni-heidelberg.de\n",
    "#    and Bjoern Malte Schaefer, GSFP+/Heidelberg, bjoern.malte.schaefer@uni-heidelberg.de\n",
    "# based on a script by Svenn-Arne Dragly, s@dragly.com\n",
    "\n",
    "import numpy as np\n",
    "from matplotlib.pylab import *\n",
    "import time\n",
    "import scipy.special as sp\n",
    "import subprocess\n",
    "\n",
    "ion()\n",
    "plt.close()\n",
    "\n",
    "# number of state(s). nmax=1 results in the ground state\n",
    "nmax = 150\n",
    "\n",
    "plot_xlim = 12\n",
    "plot_ylim = 4\n",
    "\n",
    "runtime = 10.0 # simulation duration\n",
    "\n",
    "# x coordinates\n",
    "x = np.linspace(-plot_xlim,plot_xlim,201)\n",
    "\n",
    "# lambda (lbda): complex number that is required for the norm of a coherent state (single states are poisson-weighted)\n",
    "# |lbda|^2 defines the mean quantum number of the state\n",
    "lbda = 1*(1+1j)\n",
    "\n",
    "# get Line2D objects from plot command for dynamic update -> animation of temporal development\n",
    "rr, = plot(x,x,'b-',label='real part')\n",
    "ii, = plot(x,x,'r-',label='imaginary part')\n",
    "aa, = plot(x,x,'k-',label='absolute value',linewidth=2)\n",
    "\n",
    "rr.axes.set_ylim(-plot_ylim,plot_ylim)\n",
    "rr.axes.set_xlim(-plot_xlim,plot_xlim)\n",
    "\n",
    "# comment out legend (following 3 lines), in case simulation runs too slow:\n",
    "plt.xlabel('position $x$')\n",
    "plt.ylabel('wave function $\\psi(x,t)$')\n",
    "plt.legend(loc='upper right')\n",
    "\n",
    "# calculate eigenfunctions\n",
    "def gauss_hermite(x,nosc):\n",
    "        norm = 1.0 / np.sqrt(np.float64(2**nosc * math.factorial(nosc))) / np.pi ** 0.25\n",
    "        result = sp.eval_hermite(nosc,x) * np.exp(-x**2 / 2.0) * norm\n",
    "        return(result)\n",
    "\n",
    "starttime = time.time()\n",
    "t = 0\n",
    "count = 0\n",
    "# run over 'runtime' seconds real time\n",
    "while(t < runtime):\n",
    "        t = time.time() - starttime\n",
    "\n",
    "        psi = np.zeros(x.shape) + 1j * np.zeros(x.shape)\n",
    "        # calculate either superposition: set range(0, nmax)\n",
    "        #                or single state: set range(nmax-1, nmax)\n",
    "        for nosc in range(nmax-1, nmax):\n",
    "                evo = np.exp(1j * (nosc+0.5) * t)\n",
    "                # the norm for coherent states is initially set to 1 to show the result of a simple superposition\n",
    "                #coh_norm = 1\n",
    "                # in order to construct a coherent state, use this definition of the norm:\n",
    "                coh_norm = lbda**nosc * np.exp(-(lbda**2)/2) / np.sqrt(np.float64(math.factorial(nosc)))\n",
    "                psi += coh_norm * gauss_hermite(x,nosc) * evo \n",
    "        # update plot\n",
    "        rr.set_ydata(psi.real)\n",
    "        ii.set_ydata(psi.imag)\n",
    "        aa.set_ydata(abs(psi))\n",
    "        draw()\n",
    "        pause(.01) # required on some installations to allow for interactive figure update\n",
    "        # -- uncomment to have a movie saved:\n",
    "        #savefig('./frames/frame'+str(count).zfill(5)+'.png')\n",
    "        count += 1\n",
    "\n",
    "print(count)\n",
    "\n",
    "#plt.show()\n",
    "\n",
    "# -- uncomment to have a movie saved:\n",
    "# last one with legend...\n",
    "#savefig('./frames/frame'+str(count).zfill(5)+'.png')\n",
    "\n",
    "# -- uncomment to have a movie saved:\n",
    "#subprocess.call(['ffmpeg', '-i', './frames/frame%5d.png', '../plots/temp_devel.avi'])\n",
    "#subprocess.call(['ffmpeg', '-i', '../plots/temp_devel.avi', '-t', '8', '../plots/temp_devel.gif'])\n"
   ]
  },
  {
   "cell_type": "code",
   "execution_count": null,
   "metadata": {
    "collapsed": true
   },
   "outputs": [],
   "source": []
  }
 ],
 "metadata": {
  "anaconda-cloud": {},
  "kernelspec": {
   "display_name": "Python [default]",
   "language": "python",
   "name": "python3"
  },
  "language_info": {
   "codemirror_mode": {
    "name": "ipython",
    "version": 3
   },
   "file_extension": ".py",
   "mimetype": "text/x-python",
   "name": "python",
   "nbconvert_exporter": "python",
   "pygments_lexer": "ipython3",
   "version": "3.5.2"
  }
 },
 "nbformat": 4,
 "nbformat_minor": 1
}
